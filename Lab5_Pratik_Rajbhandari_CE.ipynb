{
  "nbformat": 4,
  "nbformat_minor": 0,
  "metadata": {
    "colab": {
      "name": "Lab5_Pratik_Rajbhandari_CE.ipynb",
      "provenance": []
    },
    "kernelspec": {
      "name": "python3",
      "display_name": "Python 3"
    }
  },
  "cells": [
    {
      "cell_type": "code",
      "metadata": {
        "id": "aQkQa5E23m4G",
        "colab_type": "code",
        "colab": {}
      },
      "source": [
        "def fetch_posts():\n",
        "  for line in open(\"data.tsv\", \"r\"):\n",
        "    post_id, text = line.split(\"\\t\")\n",
        "    yield int(post_id), text.strip()"
      ],
      "execution_count": 0,
      "outputs": []
    },
    {
      "cell_type": "code",
      "metadata": {
        "id": "z-Bqh_UI3yGM",
        "colab_type": "code",
        "colab": {}
      },
      "source": [
        "all_answers = [q for q,v in meta.items() if v['ParentId']!=-1]\n",
        "Y = np.asarray([meta[answerId]['Score']>0 for answerId in all_answers])"
      ],
      "execution_count": 0,
      "outputs": []
    },
    {
      "cell_type": "code",
      "metadata": {
        "id": "hiSORiqf39xK",
        "colab_type": "code",
        "colab": {}
      },
      "source": [
        "from sklearn import neighbors\n",
        "knn = neighbors.KNeighborsClassifier(n_neighbors=2)\n",
        "print(knn)"
      ],
      "execution_count": 0,
      "outputs": []
    },
    {
      "cell_type": "code",
      "metadata": {
        "id": "k1WyrO2R4vDd",
        "colab_type": "code",
        "colab": {}
      },
      "source": [
        "knn.fit([[1],[2],[3],[4],[5],[6]], [0,0,0,1,1,1])\n",
        "print(knn.predict(1.5))\n",
        "print(knn.predict(37))\n",
        "print(knn.predict(3))"
      ],
      "execution_count": 0,
      "outputs": []
    },
    {
      "cell_type": "code",
      "metadata": {
        "id": "5J3q6j1c40pb",
        "colab_type": "code",
        "colab": {}
      },
      "source": [
        "print(knn.predict_proba(1.5))\n",
        "print(knn.predict_proba(37))\n",
        "print(knn.predict_proba(3.5))"
      ],
      "execution_count": 0,
      "outputs": []
    },
    {
      "cell_type": "code",
      "metadata": {
        "id": "Uv1WQSLi5CdX",
        "colab_type": "code",
        "colab": {}
      },
      "source": [
        "import re\n",
        "code_match = re.compile('<pre>(.*?)</pre>', re.MULTILINE | re.DOTALL)\n",
        "link_match = re.compile('<a href=\"http://.*?\".*?>(.*?)</a>', re.MULTILINE | re.DOTALL)\n",
        "tag_match = re.compile('<[^>]*>', re.MULTILINE | re.DOTALL)\n",
        "\n",
        "\n",
        "def extract_features_from_body(s):\n",
        "  link_count_in_code = 0\n",
        "  for match_str in code_match.findall(s):\n",
        "    link_count_in_code += len(link_match.findall(match_str))\n",
        "\n",
        "  return len(link_match.findall(s)) - link_count_in_code"
      ],
      "execution_count": 0,
      "outputs": []
    },
    {
      "cell_type": "code",
      "metadata": {
        "id": "9YoFV5hi5PzW",
        "colab_type": "code",
        "colab": {}
      },
      "source": [
        "X = np.asarray([extract_features_from_body(text) for post_id, text in fetch_posts() if post_id in all_answers])\n",
        "knn = neighbors.KNeighborsClassifier()\n",
        "knn.fit(X, Y)"
      ],
      "execution_count": 0,
      "outputs": []
    },
    {
      "cell_type": "code",
      "metadata": {
        "id": "A_Xu_K8E5X6W",
        "colab_type": "code",
        "colab": {}
      },
      "source": [
        "from sklearn.cross_validation import KFold\n",
        "scores = []\n",
        "cv = KFold(n=len(X), k=10, indices=True)\n",
        "for train, test in cv:\n",
        "  X_train, y_train = X[train], Y[train]\n",
        "  X_test, y_test = X[test], Y[test]\n",
        "  clf = neighbors.KNeighborsClassifier()\n",
        "  clf.fit(X, Y)\n",
        "  scores.append(clf.score(X_test, y_test))\n",
        "print(\"Mean(scores)=%.5f\\tStddev(scores)=%.5f\"\\ %(np.mean(scores), np.std(scores)))"
      ],
      "execution_count": 0,
      "outputs": []
    },
    {
      "cell_type": "code",
      "metadata": {
        "id": "yUXouf3Z5kHU",
        "colab_type": "code",
        "colab": {}
      },
      "source": [
        "def extract_features_from_body(s):\n",
        "  num_code_lines = 0\n",
        "  link_count_in_code = 0\n",
        "  code_free_s = s\n",
        "  for match_str in code_match.findall(s):\n",
        "    num_code_lines += match_str.count('\\n')\n",
        "    code_free_s = code_match.sub(\"\", code_free_s)\n",
        "    link_count_in_code += len(link_match.findall(match_str))\n",
        "  links = link_match.findall(s)\n",
        "  link_count = len(links)\n",
        "  link_count -= link_count_in_code\n",
        "  html_free_s = re.sub(\" +\", \" \", tag_match.sub('', code_free_s)).replace(\"\\n\", \"\")\n",
        "  link_free_s = html_free_s\n",
        "  for link in links:\n",
        "    if link.lower().startswith(\"http://\"):\n",
        "      link_free_s = link_free_s.replace(link,'')\n",
        "  num_text_tokens = html_free_s.count(\" \")\n",
        "  return num_text_tokens, num_code_lines, link_count"
      ],
      "execution_count": 0,
      "outputs": []
    },
    {
      "cell_type": "code",
      "metadata": {
        "id": "fZZkQug-5zQH",
        "colab_type": "code",
        "colab": {}
      },
      "source": [
        "from sklearn.linear_model import LogisticRegression\n",
        "clf = LogisticRegression()\n",
        "print(clf)"
      ],
      "execution_count": 0,
      "outputs": []
    },
    {
      "cell_type": "code",
      "metadata": {
        "id": "Q_tTnJ4O55Vv",
        "colab_type": "code",
        "colab": {}
      },
      "source": [
        "clf.fit(X, y)\n",
        "print(np.exp(clf.intercept_), np.exp(clf.coef_.ravel()))"
      ],
      "execution_count": 0,
      "outputs": []
    },
    {
      "cell_type": "code",
      "metadata": {
        "id": "kK7fPKCQ58bE",
        "colab_type": "code",
        "colab": {}
      },
      "source": [
        "def lr_model(clf, X):\n",
        "  return 1 / (1 + np.exp(-(clf.intercept_ + clf.coef_*X)))"
      ],
      "execution_count": 0,
      "outputs": []
    },
    {
      "cell_type": "code",
      "metadata": {
        "id": "2hXPUA2t5--D",
        "colab_type": "code",
        "colab": {}
      },
      "source": [
        "print(\"P(x=-1)=%.2f\\tP(x=7)=%.2f\"%(lr_model(clf, -1), lr_model(clf, 7)))"
      ],
      "execution_count": 0,
      "outputs": []
    },
    {
      "cell_type": "code",
      "metadata": {
        "id": "3P_XqWlv6BT3",
        "colab_type": "code",
        "colab": {}
      },
      "source": [
        "from sklearn.metrics import precision_recall_curve\n",
        "precision, recall, thresholds = precision_recall_curve(y_test, clf.predict(X_test))"
      ],
      "execution_count": 0,
      "outputs": []
    },
    {
      "cell_type": "code",
      "metadata": {
        "id": "Y7uOq6R56HCO",
        "colab_type": "code",
        "colab": {}
      },
      "source": [
        "medium = np.argsort(scores)[int(len(scores) / 2)]\n",
        "thresholds = np.hstack(([0],thresholds[medium]))\n",
        "idx80 = precisions>=0.8\n",
        "print(\"P=%.2f R=%.2f thresh=%.2f\" % (precision[idx80][0], recall[idx80][0], threshold[idx80][0]))"
      ],
      "execution_count": 0,
      "outputs": []
    },
    {
      "cell_type": "code",
      "metadata": {
        "id": "VOAif8P_6NIu",
        "colab_type": "code",
        "colab": {}
      },
      "source": [
        "thresh80 = threshold[idx80][0]\n",
        "probs_for_good = clf.predict_proba(answer_features)[:,1]\n",
        "answer_class = probs_for_good>thresh80"
      ],
      "execution_count": 0,
      "outputs": []
    },
    {
      "cell_type": "code",
      "metadata": {
        "id": "cS2rvCPb6RjS",
        "colab_type": "code",
        "colab": {}
      },
      "source": [
        "from sklearn.metrics import classification_report\n",
        "print(classification_report(y_test, clf.predict_proba [:,1]>0.63, target_names=['not accepted', 'accepted']))"
      ],
      "execution_count": 0,
      "outputs": []
    },
    {
      "cell_type": "code",
      "metadata": {
        "id": "Nr4LcLI76T9C",
        "colab_type": "code",
        "colab": {}
      },
      "source": [
        "import pickle\n",
        "pickle.dump(clf, open(\"logreg.dat\", \"w\"))\n",
        "clf = pickle.load(open(\"logreg.dat\", \"r\"))"
      ],
      "execution_count": 0,
      "outputs": []
    },
    {
      "cell_type": "code",
      "metadata": {
        "id": "Yq3g58Ah6Wvy",
        "colab_type": "code",
        "colab": {}
      },
      "source": [
        ""
      ],
      "execution_count": 0,
      "outputs": []
    }
  ]
}